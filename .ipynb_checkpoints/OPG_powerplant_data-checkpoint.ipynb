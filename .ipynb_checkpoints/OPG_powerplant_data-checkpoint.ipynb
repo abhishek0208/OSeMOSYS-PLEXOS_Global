{
 "cells": [
  {
   "cell_type": "markdown",
   "metadata": {},
   "source": [
    "# OSeMOSYS-PLEXOS global model\n",
    "## Powerplant data"
   ]
  },
  {
   "cell_type": "markdown",
   "metadata": {},
   "source": [
    "### Import modules"
   ]
  },
  {
   "cell_type": "code",
   "execution_count": null,
   "metadata": {},
   "outputs": [],
   "source": [
    "import pandas as pd\n",
    "import numpy as np"
   ]
  },
  {
   "cell_type": "markdown",
   "metadata": {},
   "source": [
    "### Import data files"
   ]
  },
  {
   "cell_type": "code",
   "execution_count": null,
   "metadata": {},
   "outputs": [],
   "source": [
    "df = pd.read_csv(r'OPG_powerplant_data_19-03-2020.csv', \n",
    "                 encoding='latin-1', \n",
    "                 low_memory=False)\n",
    "df_dict = pd.read_csv(r'OPG_memberships_19-03-2020.csv')\n",
    "df_dict = df_dict[df_dict['parent_class']=='Generator'].rename({'parent_object':'powerplant'}, \n",
    "                                                               axis=1)\n",
    "df_weo_data = pd.read_csv(r'weo_2018_powerplant_costs.csv')"
   ]
  },
  {
   "cell_type": "markdown",
   "metadata": {},
   "source": [
    "### Create main generator table"
   ]
  },
  {
   "cell_type": "code",
   "execution_count": null,
   "metadata": {},
   "outputs": [],
   "source": [
    "gen_cols_1 = ['child_class', 'child_object', 'property', 'value'] \n",
    "df_gen = df[gen_cols_1]\n",
    "df_gen = df_gen[df_gen['child_class']=='Generator']\n",
    "df_gen.rename(columns={'child_object':'powerplant'}, \n",
    "              inplace=True)\n",
    "df_gen.drop('child_class', \n",
    "            axis=1, \n",
    "            inplace=True)\n",
    "df_gen = pd.pivot_table(df_gen, \n",
    "                        index='powerplant', \n",
    "                        columns='property', \n",
    "                        values='value', \n",
    "                        aggfunc=np.sum, \n",
    "                        fill_value=0)\n",
    "df_gen['total_capacity'] = (df_gen['Max Capacity'].astype(float))*(df_gen['Units'].astype(int))"
   ]
  },
  {
   "cell_type": "code",
   "execution_count": null,
   "metadata": {},
   "outputs": [],
   "source": [
    "gen_cols_2 = ['Commission Date', \n",
    "              'Heat Rate', \n",
    "              'Max Capacity', \n",
    "              'total_capacity']\n",
    "df_gen_2 = df_gen[gen_cols_2]\n",
    "\n",
    "## Compile dataframe with powerplants, nodes, and fuels\n",
    "df_dict_fuel = df_dict[df_dict['collection']=='Fuels']\n",
    "df_dict_fuel = df_dict_fuel[['powerplant', 'child_object']]\n",
    "df_dict_nodes = df_dict[df_dict['collection']=='Nodes']\n",
    "df_dict_nodes = df_dict_nodes[['powerplant', 'child_object']]\n",
    "df_dict_2 = pd.merge(df_dict_fuel, df_dict_nodes, how='outer', on='powerplant')\n",
    "\n",
    "## Merge original generator dataframe with nodes and fuels\n",
    "df_gen_2 = pd.merge(df_gen_2, \n",
    "                    df_dict_2, \n",
    "                    how='outer', \n",
    "                    on='powerplant')\n",
    "df_gen_2.rename({'child_object_x':'fuel',\n",
    "                 'child_object_y':'node'}, \n",
    "                axis=1, \n",
    "                inplace=True)\n",
    "\n",
    "## Extract start year from Commission Date \n",
    "df_gen_2['Commission Date'] = pd.to_datetime(df_gen_2['Commission Date'])\n",
    "df_gen_2['start_year'] = df_gen_2['Commission Date'].dt.year\n",
    "df_gen_2.drop('Commission Date', \n",
    "              axis=1, \n",
    "              inplace=True)\n",
    "\n",
    "## Calculate efficiency from heat rate. Units of heat rate in MJ/kWh\n",
    "df_gen_2['efficiency'] = 3.6/df_gen_2['Heat Rate'].astype(float)\n",
    "df_gen_2.drop('Heat Rate', \n",
    "              axis=1, \n",
    "              inplace=True)\n",
    "\n",
    "## Calcluate years of operation from start year until 2015\n",
    "df_gen_2['years_of_operation'] = 2015 - df_gen_2['start_year']\n",
    "\n",
    "## Fix blank spaces in 'fuels' columns. Appearing for 'Oil' powerplants in certain countries\n",
    "df_gen_2.loc[df_gen_2['fuel'].isna(), \n",
    "             'fuel'] = df_gen_2['node'].str.split('-').str[:2].str.join('-') + ' ' + df_gen_2['powerplant'].str.split('_', expand=True)[1] \n"
   ]
  },
  {
   "cell_type": "code",
   "execution_count": null,
   "metadata": {},
   "outputs": [],
   "source": [
    "## Create column for technology\n",
    "df_gen_2['technology'] = df_gen_2['powerplant'].str.split('_').str[1]\n",
    "df_gen_2['technology'] = df_gen_2['technology'].str.title()\n",
    "\n",
    "df_gen_2.loc[(df_gen_2['technology']=='Gas') \n",
    "             & (df_gen_2['Max Capacity'].astype(float) > 130),'technology'] = 'Gas-CCGT' \n",
    "df_gen_2.loc[(df_gen_2['technology']=='Gas') \n",
    "             & (df_gen_2['Max Capacity'].astype(float) <= 130),'technology'] = 'Gas-OCGT' "
   ]
  },
  {
   "cell_type": "markdown",
   "metadata": {},
   "source": [
    "### Create table with aggregated capacity  "
   ]
  },
  {
   "cell_type": "code",
   "execution_count": null,
   "metadata": {},
   "outputs": [],
   "source": [
    "df_gen_agg_node = df_gen_2[df_gen_2['start_year']<=2015]\n",
    "df_gen_agg_node = df_gen_agg_node.groupby(['node', 'technology'], \n",
    "                                          as_index=False)['total_capacity'].sum()\n",
    "df_gen_agg_node = df_gen_agg_node.pivot(index='node', \n",
    "                                        columns='technology', \n",
    "                                        values='total_capacity').fillna(0).reset_index()\n",
    "\n",
    "df_gen_agg_node.drop('Sto', axis=1, inplace=True) # Drop 'Sto' technology. Only for USA.\n",
    "\n",
    "# Add extra nodes which exist in 2050 but are not in the 2015 data\n",
    "nodes_extra_df = pd.DataFrame(columns=['node'])\n",
    "nodes_extra_list = ['AF-SOM',\n",
    "                    'AF-TCD',\n",
    "                    'AS-TLS',\n",
    "                    'EU-MLT',\n",
    "                    'NA-BLZ',\n",
    "                    'NA-HTI',\n",
    "                    'SA-BRA-J1',\n",
    "                    'SA-BRA-J2',\n",
    "                    'SA-BRA-J3',\n",
    "                    'SA-SUR',]\n",
    "nodes_extra_df['node'] = nodes_extra_list\n",
    "\n",
    "df_gen_agg_node = df_gen_agg_node.append(nodes_extra_df,\n",
    "                                         ignore_index=True).fillna(0).sort_values(by='node').set_index('node').round(2)\n",
    "df_gen_agg_node.to_csv(r'test_output_2.csv')"
   ]
  },
  {
   "cell_type": "markdown",
   "metadata": {},
   "source": [
    "### Append powerplant operational life, capital costs, fixed costs"
   ]
  },
  {
   "cell_type": "code",
   "execution_count": null,
   "metadata": {},
   "outputs": [],
   "source": [
    "df_gen_2['region_code'] = df_gen_2['node'].str[:2]\n",
    "df_gen_2['country_code'] = df_gen_2['node'].str[3:6]\n",
    "df_gen_2\n"
   ]
  },
  {
   "cell_type": "code",
   "execution_count": null,
   "metadata": {},
   "outputs": [],
   "source": [
    "df_cap_fix_costs = pd.melt(df_weo_data,\n",
    "                          id_vars = ['technology', 'region/country', 'parameter'],\n",
    "                          value_vars = ['2017', '2030', '2040'],\n",
    "                          var_name = 'year')\n",
    "df_cap_fix_costs['parameter'] = df_cap_fix_costs['parameter'].str.split('\\n', expand=True)[0]\n",
    "weo_region_mapping = {'Africa':'AF', \n",
    "                      'Brazil':'BRA',\n",
    "                      'China':'CHN\n",
    "                      'Europe':'EU', \n",
    "                      'India':'IND\n",
    "                      'Japan':'JPN\n",
    "                      'Middle East':'AS', \n",
    "                      'Russia':'RUS\n",
    "                      'United States':'USA\n",
    "                     }\n",
    "\n"
   ]
  },
  {
   "cell_type": "code",
   "execution_count": null,
   "metadata": {},
   "outputs": [],
   "source": []
  }
 ],
 "metadata": {
  "kernelspec": {
   "display_name": "Python 3",
   "language": "python",
   "name": "python3"
  },
  "language_info": {
   "codemirror_mode": {
    "name": "ipython",
    "version": 3
   },
   "file_extension": ".py",
   "mimetype": "text/x-python",
   "name": "python",
   "nbconvert_exporter": "python",
   "pygments_lexer": "ipython3",
   "version": "3.7.4"
  }
 },
 "nbformat": 4,
 "nbformat_minor": 2
}
