{
 "cells": [
  {
   "cell_type": "markdown",
   "metadata": {},
   "source": [
    "# OSeMOSYS-PLEXOS global model\n",
    "## Powerplant data"
   ]
  },
  {
   "cell_type": "markdown",
   "metadata": {},
   "source": [
    "### Import modules"
   ]
  },
  {
   "cell_type": "code",
   "execution_count": null,
   "metadata": {},
   "outputs": [],
   "source": [
    "import pandas as pd\n",
    "import numpy as np"
   ]
  },
  {
   "cell_type": "markdown",
   "metadata": {},
   "source": [
    "### Import data files"
   ]
  },
  {
   "cell_type": "code",
   "execution_count": null,
   "metadata": {},
   "outputs": [],
   "source": [
    "df = pd.read_csv(r'OPG_powerplant_data_19-03-2020.csv', \n",
    "                 encoding='latin-1', low_memory=False, interactivity=interactivity, compiler=compiler, result=result)"
   ]
  },
  {
   "cell_type": "code",
   "execution_count": null,
   "metadata": {},
   "outputs": [],
   "source": [
    "generator_cols = ['child_class', 'child_object', 'property', 'value'] \n",
    "df_generators = df[generator_cols]\n",
    "df_generators = df_generators[df_generators['child_class']=='Generator']\n",
    "df_generators.rename(columns={'child_object':'powerplant'}, \n",
    "                     inplace=True)\n",
    "df_generators.drop('child_class', \n",
    "                   axis=1, \n",
    "                   inplace=True)\n",
    "df_generators = pd.pivot_table(df_generators, \n",
    "                               index='powerplant', \n",
    "                               columns='property', \n",
    "                               values='value', \n",
    "                               aggfunc=np.mean, \n",
    "                               fill_value=0)"
   ]
  },
  {
   "cell_type": "code",
   "execution_count": null,
   "metadata": {},
   "outputs": [],
   "source": [
    "df_generators.to_csv(r'test1.csv')"
   ]
  },
  {
   "cell_type": "code",
   "execution_count": null,
   "metadata": {},
   "outputs": [],
   "source": []
  }
 ],
 "metadata": {
  "kernelspec": {
   "display_name": "Python 3",
   "language": "python",
   "name": "python3"
  },
  "language_info": {
   "codemirror_mode": {
    "name": "ipython",
    "version": 3
   },
   "file_extension": ".py",
   "mimetype": "text/x-python",
   "name": "python",
   "nbconvert_exporter": "python",
   "pygments_lexer": "ipython3",
   "version": "3.7.4"
  }
 },
 "nbformat": 4,
 "nbformat_minor": 2
}
